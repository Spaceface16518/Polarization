{
 "cells": [
  {
   "cell_type": "markdown",
   "metadata": {
    "pycharm": {
     "name": "#%% md\n"
    }
   },
   "source": [
    "# Background\n",
    "\n",
    "In a study by Pew Research, participates were asked to choose which keywords they associate with their political opponents from a list.\n",
    "\n",
    "# Method\n",
    "\n",
    "We use synonyms of the keywords determined in this list to mark certain posts as \"polarized\".\n",
    "As a sanity check, the \"share\" of each of the polarizing words will be compared to that of the Pew Research study.\n",
    "We will then make the analysis more detailed, turning the polarization statistic from a nominal boolean to an ordinal *polarization index*."
   ]
  },
  {
   "cell_type": "markdown",
   "metadata": {
    "pycharm": {
     "name": "#%% md\n"
    }
   },
   "source": [
    "# Implementation\n",
    "\n",
    "## Data Collection"
   ]
  },
  {
   "cell_type": "code",
   "execution_count": 1,
   "metadata": {
    "pycharm": {
     "name": "#%%\n"
    }
   },
   "outputs": [
    {
     "name": "stdout",
     "output_type": "stream",
     "text": [
      "                                                body\n",
      "0  I mean the guy who did it, whose remains they ...\n",
      "1  This is what happens when you try to pin a \"la...\n",
      "2  Look at the bill Thom Tillis included. Anyone ...\n",
      "3  Read it. That is if you couldn't work or had y...\n",
      "4  I'm always impressed with gets attention when ...\n"
     ]
    }
   ],
   "source": [
    "from collect import fetch\n",
    "\n",
    "# collect sample data from r/politics\n",
    "comments = fetch(limit=500)\n",
    "\n",
    "# we only need the comment body, so we'll manually drop the other fields\n",
    "for column in comments.columns:\n",
    "    # delete column if it's not the body column\n",
    "    if column != 'body':\n",
    "        del comments[column]\n",
    "\n",
    "print(comments.head())"
   ]
  },
  {
   "cell_type": "markdown",
   "metadata": {
    "pycharm": {
     "name": "#%% md\n"
    }
   },
   "source": [
    "## Polarization\n",
    "\n",
    "Now that we have some sample data, we can analyze it to see whether it contains polarizing words or phrases.\n",
    "We'll keep the polarized comments and filter out the rest"
   ]
  },
  {
   "cell_type": "code",
   "execution_count": 2,
   "metadata": {
    "pycharm": {
     "name": "#%%\n"
    }
   },
   "outputs": [
    {
     "name": "stdout",
     "output_type": "stream",
     "text": [
      "                                                 body\n",
      "7   My thoughts exactly. All states get class acti...\n",
      "9   Lin Wood is crazy.  I read somewhere that he d...\n",
      "33  Not just unemployed, it’s most people who made...\n",
      "50  Just after this administration renovated a ten...\n",
      "69  Oh I didn't bother looking at comments this ti...\n"
     ]
    }
   ],
   "source": [
    "from keywords import load_polarizing_synonyms\n",
    "\n",
    "all_keywords = load_polarizing_synonyms('../keywords')\n",
    "\n",
    "# which comments are polarized?\n",
    "polarized = comments.apply(lambda row: any(keyword.casefold() in row['body'].casefold() for keyword in all_keywords), axis=1)\n",
    "\n",
    "\n",
    "# print out the polarized comments\n",
    "# see if you can spot some keywords in the output!\n",
    "print(comments[polarized].head())"
   ]
  },
  {
   "cell_type": "markdown",
   "metadata": {},
   "source": [
    "Now that we know which comments are polarized, we can determine how many of the comments we collected are polarized."
   ]
  },
  {
   "cell_type": "code",
   "execution_count": 3,
   "metadata": {
    "pycharm": {
     "name": "#%%\n"
    }
   },
   "outputs": [
    {
     "data": {
      "image/png": "[encoded data removed]",
      "text/plain": [
       "<Figure size 432x288 with 1 Axes>"
      ]
     },
     "metadata": {},
     "output_type": "display_data"
    }
   ],
   "source": [
    "from matplotlib import pyplot as plt\n",
    "\n",
    "num_polarized = len(comments[polarized])\n",
    "# TODO: better word for \"unpolarized\"\n",
    "# TODO: precision\n",
    "plt.pie([num_polarized, len(comments) - num_polarized], labels=['Polarized', 'Unpolarized'], autopct='%.0f%%')\n",
    "plt.show()"
   ]
  },
  {
   "cell_type": "markdown",
   "metadata": {
    "pycharm": {
     "name": "#%% md\n"
    }
   },
   "source": [
    "While this is, in itself, important information, we need to know whether this data lines up with the data reported by the Pew study so that we can determine whether our results make sense.\n",
    "\n",
    "To perform this \"sanity check\", we must determine the makeup of the polarized posts.\n",
    "We will create filter series for each individual keyword, rather than just one general `polarized` filter.\n"
   ]
  },
  {
   "cell_type": "code",
   "execution_count": 4,
   "metadata": {
    "pycharm": {
     "name": "#%%\n"
    }
   },
   "outputs": [
    {
     "data": {
      "image/png": "[encoded data removed]",
      "text/plain": [
       "<Figure size 432x288 with 1 Axes>"
      ]
     },
     "metadata": {},
     "output_type": "display_data"
    }
   ],
   "source": [
    "from keywords import load_syn, polarizing_phrases\n",
    "\n",
    "# group the synonyms by their \"root\" keyword\n",
    "keyword_synonyms = {keyword: [synonym for synonym in load_syn('../keywords', keyword)] for keyword in polarizing_phrases}\n",
    "\n",
    "# create filters for each of the groupings\n",
    "indices = {keyword: comments.apply(lambda row: any(synonym.casefold() in row['body'].casefold() for synonym in keyword_synonyms[keyword]), axis=1) for keyword in polarizing_phrases}\n",
    "\n",
    "# as a sanity check, make sure that the results add up to the general result from before\n",
    "# FIXME: overlap in keyword synonyms is causing this assertion to fail. Either account for or remove overlap\n",
    "# assert sum(len(comments[index]) for index in indices.values()) == num_polarized\n",
    "\n",
    "# plot each of the groupings this time\n",
    "labels = polarizing_phrases + ['unpolarized'] # all the categories plus default category\n",
    "# TODO: don't keep cycling colors\n",
    "plt.pie([len(comments[indices[keyword]]) for keyword in polarizing_phrases] + [len(comments) - num_polarized], labels=labels, autopct='%.0f%%')\n",
    "plt.show()"
   ]
  },
  {
   "cell_type": "markdown",
   "metadata": {},
   "source": [
    "Since that data is valid, let's make it more legible by removing the unpolarized category and focusing solely on the polarized subcategories."
   ]
  },
  {
   "cell_type": "code",
   "execution_count": 5,
   "metadata": {
    "pycharm": {
     "name": "#%%\n"
    }
   },
   "outputs": [
    {
     "data": {
      "image/png": "[encoded data removed]",
      "text/plain": [
       "<Figure size 432x288 with 1 Axes>"
      ]
     },
     "metadata": {},
     "output_type": "display_data"
    }
   ],
   "source": [
    "plt.pie([len(comments[indices[keyword]]) for keyword in polarizing_phrases], labels=polarizing_phrases, autopct='%.0f%%')\n",
    "plt.show()"
   ]
  },
  {
   "cell_type": "markdown",
   "metadata": {},
   "source": [
    "# Comparison\n",
    "\n",
    "Let's see how this compares to the Pew Research data\n",
    "\n",
    "TODO"
   ]
  },
  {
   "cell_type": "markdown",
   "metadata": {},
   "source": [
    "# Polarization Index\n",
    "\n",
    "Now that we have accurate data on the share of polarization data, let's try to make the analysis more granular.\n",
    "We will accomplish this by blending our nominal results into ordinal results to create a *polarization index*, which can be used to measure the polarization of a certain submission.\n",
    "\n",
    "The polarization index is a bespoke quantifier modeled by the following equation.\n",
    "\n",
    "$$\\text{TODO}$$\n",
    "\n",
    "TODO: explanation\n",
    "\n",
    "TODO: implementation"
   ]
  }
 ],
 "metadata": {
  "kernelspec": {
   "display_name": "Python 3",
   "language": "python",
   "name": "python3"
  },
  "language_info": {
   "codemirror_mode": {
    "name": "ipython",
    "version": 3
   },
   "file_extension": ".py",
   "mimetype": "text/x-python",
   "name": "python",
   "nbconvert_exporter": "python",
   "pygments_lexer": "ipython3",
   "version": "3.8.6"
  }
 },
 "nbformat": 4,
 "nbformat_minor": 1
}
